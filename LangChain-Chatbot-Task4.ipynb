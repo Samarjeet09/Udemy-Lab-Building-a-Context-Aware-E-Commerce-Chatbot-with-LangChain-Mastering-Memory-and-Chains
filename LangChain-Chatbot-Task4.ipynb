{
 "cells": [
  {
   "cell_type": "code",
   "execution_count": null,
   "id": "cb8d547b-0c67-4ddf-82f2-6a40193f975b",
   "metadata": {},
   "outputs": [],
   "source": [
    "!pip install -r requirements.txt"
   ]
  },
  {
   "cell_type": "code",
   "execution_count": null,
   "id": "97c22c8e-a0c2-4982-871c-f299836cf6b2",
   "metadata": {},
   "outputs": [],
   "source": [
    "import os\n",
    "from dotenv import load_dotenv\n",
    "load_dotenv()\n",
    "OPENAI_API_KEY = os.getenv(\"OPENAI_API_KEY\")\n",
    "print(OPENAI_API_KEY)"
   ]
  },
  {
   "cell_type": "code",
   "execution_count": null,
   "id": "5dab9a0f-078f-4c3e-ac22-652522ab1ebb",
   "metadata": {},
   "outputs": [],
   "source": [
    "from langchain import __version__ as langchain_version\n",
    "import openai\n",
    "print(f\"LangChain version: {langchain_version}\")\n",
    "print(\"OpenAI library imported successfully.\")"
   ]
  },
  {
   "cell_type": "code",
   "execution_count": null,
   "id": "ac200d38-e4f5-4e60-8b54-b4f676b89997",
   "metadata": {},
   "outputs": [],
   "source": [
    "from langchain_openai import ChatOpenAI\n",
    "from langchain.chains import SequentialChain, LLMChain\n",
    "from langchain.prompts import ChatPromptTemplate"
   ]
  },
  {
   "cell_type": "code",
   "execution_count": null,
   "id": "81f88653-646f-4436-94da-b379fbfe7b25",
   "metadata": {},
   "outputs": [],
   "source": [
    "llm_model = \"gpt-3.5-turbo\"\n",
    "llm = ChatOpenAI(temperature=0.3, model=llm_model)"
   ]
  },
  {
   "cell_type": "code",
   "execution_count": null,
   "id": "f498afd9-299d-4d26-a3b1-c29a26230514",
   "metadata": {},
   "outputs": [],
   "source": [
    "order_verification_prompt = ChatPromptTemplate.from_template(\n",
    "    \"A customer provided order ID {order_id}. Verify and provide product details with the delivery date.\"\n",
    ")\n",
    "order_verification_chain = LLMChain(llm=llm, prompt=order_verification_prompt, output_key=\"order_details\")"
   ]
  },
  {
   "cell_type": "code",
   "execution_count": null,
   "id": "0420b0b1-2aff-4db6-8581-a665ed8c0cdd",
   "metadata": {},
   "outputs": [],
   "source": [
    "return_initiation_prompt = ChatPromptTemplate.from_template(\n",
    "    \"Based on the following order details: {order_details}, guide the customer through the return process.\"\n",
    ")\n",
    "\n",
    "return_initiation_chain = LLMChain(llm=llm, prompt=return_initiation_prompt, output_key=\"return_process\")"
   ]
  },
  {
   "cell_type": "code",
   "execution_count": null,
   "id": "82f156e2-67e6-4ff7-80a0-480ff6ce7c5b",
   "metadata": {},
   "outputs": [],
   "source": [
    "refund_processing_prompt = ChatPromptTemplate.from_template(\n",
    "    \"Considering the return process: {return_process}, provide the estimated refund timeline.\"\n",
    ")\n",
    "\n",
    "refund_processing_chain = LLMChain(llm=llm, prompt=refund_processing_prompt, output_key=\"refund_details\")"
   ]
  },
  {
   "cell_type": "code",
   "execution_count": null,
   "id": "b4510d1e-0481-40f9-95a1-32c715ad02a6",
   "metadata": {},
   "outputs": [],
   "source": [
    "multi_step_workflow = SequentialChain(\n",
    "    chains=[order_verification_chain, return_initiation_chain, refund_processing_chain],\n",
    "    input_variables=[\"order_id\"],\n",
    "    output_variables=[\"order_details\", \"return_process\", \"refund_details\"],\n",
    "    verbose=True\n",
    ")"
   ]
  },
  {
   "cell_type": "code",
   "execution_count": null,
   "id": "7467fc73-119e-4018-bbf4-662665f176ed",
   "metadata": {},
   "outputs": [],
   "source": [
    "order_id = \"ORD67890\"\n",
    "response = multi_step_workflow.invoke({\"order_id\": order_id})\n",
    "\n",
    "print(\"\\nOrder Details:\", response[\"order_details\"])\n",
    "print(\"\\nReturn Process:\", response[\"return_process\"])\n",
    "print(\"\\nRefund Details:\", response[\"refund_details\"])"
   ]
  },
  {
   "cell_type": "code",
   "execution_count": null,
   "id": "55bd43a9-185f-40dc-93fb-81d6c6ce358e",
   "metadata": {},
   "outputs": [],
   "source": [
    "def process_order_workflow(order_id):\n",
    "    if order_id == '' or order_id == None:\n",
    "        return {'error': 'Kindly provide your order id'}\n",
    "    return multi_step_workflow.invoke({\"order_id\": order_id})\n",
    "\n",
    "# Example usage\n",
    "print(process_order_workflow(\"ORD54321\"))"
   ]
  },
  {
   "cell_type": "code",
   "execution_count": null,
   "id": "cfae2366-c16b-447a-94cc-f2ef1cc6eff1",
   "metadata": {},
   "outputs": [],
   "source": [
    "def process_order_workflow(order_id):\n",
    "    if order_id == '' or order_id == None:\n",
    "        return {'error': 'Kindly provide your order id'}\n",
    "    return multi_step_workflow.invoke({\"order_id\": order_id})\n",
    "\n",
    "# Example usage\n",
    "print(process_order_workflow(''))"
   ]
  },
  {
   "cell_type": "code",
   "execution_count": null,
   "id": "41e3fa1a-3554-45e5-beef-696b2cc5f55c",
   "metadata": {},
   "outputs": [],
   "source": []
  }
 ],
 "metadata": {
  "kernelspec": {
   "display_name": "Python 3 (ipykernel)",
   "language": "python",
   "name": "python3"
  },
  "language_info": {
   "codemirror_mode": {
    "name": "ipython",
    "version": 3
   },
   "file_extension": ".py",
   "mimetype": "text/x-python",
   "name": "python",
   "nbconvert_exporter": "python",
   "pygments_lexer": "ipython3",
   "version": "3.8.10"
  }
 },
 "nbformat": 4,
 "nbformat_minor": 5
}
