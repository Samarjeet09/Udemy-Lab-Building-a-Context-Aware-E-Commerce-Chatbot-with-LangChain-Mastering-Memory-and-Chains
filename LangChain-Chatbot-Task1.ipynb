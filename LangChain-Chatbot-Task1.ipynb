{
 "cells": [
  {
   "cell_type": "code",
   "execution_count": null,
   "id": "cb8d547b-0c67-4ddf-82f2-6a40193f975b",
   "metadata": {},
   "outputs": [],
   "source": [
    "!pip install -r requirements.txt"
   ]
  },
  {
   "cell_type": "code",
   "execution_count": null,
   "id": "97c22c8e-a0c2-4982-871c-f299836cf6b2",
   "metadata": {},
   "outputs": [],
   "source": [
    "import os\n",
    "from dotenv import load_dotenv\n",
    "load_dotenv()\n",
    "OPENAI_API_KEY = os.getenv(\"OPENAI_API_KEY\")\n",
    "print(OPENAI_API_KEY)"
   ]
  },
  {
   "cell_type": "code",
   "execution_count": null,
   "id": "5dab9a0f-078f-4c3e-ac22-652522ab1ebb",
   "metadata": {},
   "outputs": [],
   "source": [
    "from langchain import __version__ as langchain_version\n",
    "import openai\n",
    "print(f\"LangChain version: {langchain_version}\")\n",
    "print(\"OpenAI library imported successfully.\")"
   ]
  },
  {
   "cell_type": "code",
   "execution_count": null,
   "id": "ac200d38-e4f5-4e60-8b54-b4f676b89997",
   "metadata": {},
   "outputs": [],
   "source": [
    "from langchain_openai import ChatOpenAI\n",
    "from langchain.prompts import ChatPromptTemplate\n",
    "from langchain.chains import LLMChain"
   ]
  },
  {
   "cell_type": "code",
   "execution_count": null,
   "id": "96f913d6-b40a-44c6-b6f6-75bd6d88c8e1",
   "metadata": {},
   "outputs": [],
   "source": [
    "llm_model = \"gpt-3.5-turbo\"\n",
    "llm = ChatOpenAI(temperature=0.3, model=llm_model)"
   ]
  },
  {
   "cell_type": "code",
   "execution_count": null,
   "id": "81f88653-646f-4436-94da-b379fbfe7b25",
   "metadata": {},
   "outputs": [],
   "source": [
    "order_tracking_prompt = ChatPromptTemplate.from_template(\n",
    "    \"A customer wants to check the status of order ID {order_id}. Provide a response.\"\n",
    ")"
   ]
  },
  {
   "cell_type": "code",
   "execution_count": null,
   "id": "f498afd9-299d-4d26-a3b1-c29a26230514",
   "metadata": {},
   "outputs": [],
   "source": [
    "order_tracking_chain = LLMChain(llm=llm, prompt=order_tracking_prompt)"
   ]
  },
  {
   "cell_type": "code",
   "execution_count": null,
   "id": "ac48c90c-6925-42a4-8300-0aa8531e4f8e",
   "metadata": {},
   "outputs": [],
   "source": [
    "response = order_tracking_chain.invoke({\"order_id\": \"ORD12345\"})\n",
    "print(response['text'])"
   ]
  },
  {
   "cell_type": "code",
   "execution_count": null,
   "id": "0420b0b1-2aff-4db6-8581-a665ed8c0cdd",
   "metadata": {},
   "outputs": [],
   "source": [
    "product_inquiry_prompt = ChatPromptTemplate.from_template(\n",
    "    \"Provide details about the product: {product_name}.\"\n",
    ")\n",
    "\n",
    "refund_policy_prompt = ChatPromptTemplate.from_template(\n",
    "    \"A customer asked: {issue}. Provide information about the refund policy.\"\n",
    ")"
   ]
  },
  {
   "cell_type": "code",
   "execution_count": null,
   "id": "b4510d1e-0481-40f9-95a1-32c715ad02a6",
   "metadata": {},
   "outputs": [],
   "source": [
    "product_inquiry_chain = LLMChain(llm=llm, prompt=product_inquiry_prompt)\n",
    "refund_policy_chain = LLMChain(llm=llm, prompt=refund_policy_prompt)"
   ]
  },
  {
   "cell_type": "code",
   "execution_count": null,
   "id": "7467fc73-119e-4018-bbf4-662665f176ed",
   "metadata": {},
   "outputs": [],
   "source": [
    "response = product_inquiry_chain.invoke({\"product_name\": \"Wireless Headphones\"})\n",
    "print(response['text'])"
   ]
  },
  {
   "cell_type": "code",
   "execution_count": null,
   "id": "e6c2c45d-fa0c-4846-8d99-32f02133baa0",
   "metadata": {},
   "outputs": [],
   "source": [
    "response = refund_policy_chain.invoke({\"issue\": \"How can I return a damaged item?\"})\n",
    "print(response['text'])"
   ]
  }
 ],
 "metadata": {
  "kernelspec": {
   "display_name": "Python 3 (ipykernel)",
   "language": "python",
   "name": "python3"
  },
  "language_info": {
   "codemirror_mode": {
    "name": "ipython",
    "version": 3
   },
   "file_extension": ".py",
   "mimetype": "text/x-python",
   "name": "python",
   "nbconvert_exporter": "python",
   "pygments_lexer": "ipython3",
   "version": "3.8.10"
  }
 },
 "nbformat": 4,
 "nbformat_minor": 5
}
